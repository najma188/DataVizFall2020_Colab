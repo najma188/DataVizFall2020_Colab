{
  "nbformat": 4,
  "nbformat_minor": 0,
  "metadata": {
    "colab": {
      "name": "Copy of Class_Activity_Lec03.ipynb",
      "provenance": [],
      "collapsed_sections": [],
      "toc_visible": true,
      "include_colab_link": true
    },
    "kernelspec": {
      "name": "python3",
      "display_name": "Python 3"
    }
  },
  "cells": [
    {
      "cell_type": "markdown",
      "metadata": {
        "id": "view-in-github",
        "colab_type": "text"
      },
      "source": [
        "<a href=\"https://colab.research.google.com/github/najma188/DataVizFall2020_Colab/blob/master/Copy_of_Class_Activity_Lec03.ipynb\" target=\"_parent\"><img src=\"https://colab.research.google.com/assets/colab-badge.svg\" alt=\"Open In Colab\"/></a>"
      ]
    },
    {
      "cell_type": "markdown",
      "metadata": {
        "id": "Byjnt3sW70g2"
      },
      "source": [
        "# Visualize New York times database for COVID-19\n",
        "## Case study Bristol and Suffolk, MA"
      ]
    },
    {
      "cell_type": "markdown",
      "metadata": {
        "id": "-yRKZ88f8Eit"
      },
      "source": [
        "## Loading US County Level Data"
      ]
    },
    {
      "cell_type": "code",
      "metadata": {
        "id": "FmC4_RXYRmTQ"
      },
      "source": [
        "import pandas as pd\n",
        "import matplotlib.pyplot as plt"
      ],
      "execution_count": null,
      "outputs": []
    },
    {
      "cell_type": "code",
      "metadata": {
        "id": "uMLnoCtYTr4t"
      },
      "source": [
        ""
      ],
      "execution_count": null,
      "outputs": []
    },
    {
      "cell_type": "code",
      "metadata": {
        "id": "Zx2TID5Q79vH"
      },
      "source": [
        "# https://github.com/nytimes/covid-19-data repository location\n",
        "db = \"https://raw.githubusercontent.com/nytimes/covid-19-data/master/us-counties.csv\"\n",
        "## loading data into dataframe\n"
      ],
      "execution_count": null,
      "outputs": []
    },
    {
      "cell_type": "markdown",
      "metadata": {
        "id": "Qmo3W6WqZc-o"
      },
      "source": [
        "# Explore data"
      ]
    },
    {
      "cell_type": "code",
      "metadata": {
        "id": "1LFMv0CP7vf_",
        "colab": {
          "base_uri": "https://localhost:8080/",
          "height": 195
        },
        "outputId": "5235f768-bc58-4ede-dc34-366e28755a33"
      },
      "source": [
        "df = pd.read_csv(db)\n",
        "df.head(5)"
      ],
      "execution_count": null,
      "outputs": [
        {
          "output_type": "execute_result",
          "data": {
            "text/html": [
              "<div>\n",
              "<style scoped>\n",
              "    .dataframe tbody tr th:only-of-type {\n",
              "        vertical-align: middle;\n",
              "    }\n",
              "\n",
              "    .dataframe tbody tr th {\n",
              "        vertical-align: top;\n",
              "    }\n",
              "\n",
              "    .dataframe thead th {\n",
              "        text-align: right;\n",
              "    }\n",
              "</style>\n",
              "<table border=\"1\" class=\"dataframe\">\n",
              "  <thead>\n",
              "    <tr style=\"text-align: right;\">\n",
              "      <th></th>\n",
              "      <th>date</th>\n",
              "      <th>county</th>\n",
              "      <th>state</th>\n",
              "      <th>fips</th>\n",
              "      <th>cases</th>\n",
              "      <th>deaths</th>\n",
              "    </tr>\n",
              "  </thead>\n",
              "  <tbody>\n",
              "    <tr>\n",
              "      <th>0</th>\n",
              "      <td>2020-01-21</td>\n",
              "      <td>Snohomish</td>\n",
              "      <td>Washington</td>\n",
              "      <td>53061.0</td>\n",
              "      <td>1</td>\n",
              "      <td>0</td>\n",
              "    </tr>\n",
              "    <tr>\n",
              "      <th>1</th>\n",
              "      <td>2020-01-22</td>\n",
              "      <td>Snohomish</td>\n",
              "      <td>Washington</td>\n",
              "      <td>53061.0</td>\n",
              "      <td>1</td>\n",
              "      <td>0</td>\n",
              "    </tr>\n",
              "    <tr>\n",
              "      <th>2</th>\n",
              "      <td>2020-01-23</td>\n",
              "      <td>Snohomish</td>\n",
              "      <td>Washington</td>\n",
              "      <td>53061.0</td>\n",
              "      <td>1</td>\n",
              "      <td>0</td>\n",
              "    </tr>\n",
              "    <tr>\n",
              "      <th>3</th>\n",
              "      <td>2020-01-24</td>\n",
              "      <td>Cook</td>\n",
              "      <td>Illinois</td>\n",
              "      <td>17031.0</td>\n",
              "      <td>1</td>\n",
              "      <td>0</td>\n",
              "    </tr>\n",
              "    <tr>\n",
              "      <th>4</th>\n",
              "      <td>2020-01-24</td>\n",
              "      <td>Snohomish</td>\n",
              "      <td>Washington</td>\n",
              "      <td>53061.0</td>\n",
              "      <td>1</td>\n",
              "      <td>0</td>\n",
              "    </tr>\n",
              "  </tbody>\n",
              "</table>\n",
              "</div>"
            ],
            "text/plain": [
              "         date     county       state     fips  cases  deaths\n",
              "0  2020-01-21  Snohomish  Washington  53061.0      1       0\n",
              "1  2020-01-22  Snohomish  Washington  53061.0      1       0\n",
              "2  2020-01-23  Snohomish  Washington  53061.0      1       0\n",
              "3  2020-01-24       Cook    Illinois  17031.0      1       0\n",
              "4  2020-01-24  Snohomish  Washington  53061.0      1       0"
            ]
          },
          "metadata": {
            "tags": []
          },
          "execution_count": 4
        }
      ]
    },
    {
      "cell_type": "code",
      "metadata": {
        "id": "QpoWNDUxZgSJ"
      },
      "source": [
        ""
      ],
      "execution_count": null,
      "outputs": []
    },
    {
      "cell_type": "code",
      "metadata": {
        "id": "n6KHjGs7RwaS",
        "colab": {
          "base_uri": "https://localhost:8080/"
        },
        "outputId": "6ae93977-f7a1-4f27-9e21-b702615c2aa6"
      },
      "source": [
        "# let us get fips for 2 counties  (Bristol and Suffolk, MA)\n",
        "## fips stands for : Federal Information Processing Standards\n",
        "\"Bristol_fips = df.loc[df['county'] == 'Bristol',['fips']]\\n\",\n",
        "\"Suffolk_fips = df.loc[df['county'] == 'Suffolk',['fips']]\\n\",\n",
        "\"\\n\",\n",
        "\"print(\\\"Bristol fips\\\\n\\\", Bristol_fips)\\n\",\n",
        "\"print(\\\"Suffolk fips\\\\n\\\", Suffolk_fips)\\n\","
      ],
      "execution_count": null,
      "outputs": [
        {
          "output_type": "execute_result",
          "data": {
            "text/plain": [
              "('print(\"Suffolk fips\\\\n\", Suffolk_fips)\\n',)"
            ]
          },
          "metadata": {
            "tags": []
          },
          "execution_count": 2
        }
      ]
    },
    {
      "cell_type": "code",
      "metadata": {
        "id": "xYbzk8vCR8GE",
        "colab": {
          "base_uri": "https://localhost:8080/"
        },
        "outputId": "08b8695a-91ee-478c-c9d9-a7877883b422"
      },
      "source": [
        "{\n",
        "   \"cell_type\": \"code\",\n",
        "   \"execution_count\": 10,\n",
        "   \"metadata\": {\n",
        "    \"colab\": {\n",
        "     \"base_uri\": \"https://localhost:8080/\",\n",
        "     \"height\": 227\n",
        "    },\n",
        "    \"executionInfo\": {\n",
        "     \"elapsed\": 412,\n",
        "     \"status\": \"ok\",\n",
        "     \"timestamp\": 1599664649766,\n",
        "     \"user\": {\n",
        "      \"displayName\": \"Amir Akhavan\",\n",
        "      \"photoUrl\": \"https://lh3.googleusercontent.com/a-/AOh14GhuZ7DEnnX7fhJd6axbb96bIf-9rGZxGwMMKTY=s64\",\n",
        "      \"userId\": \"03341449936186710418\"\n",
        "     },\n",
        "     \"user_tz\": 240\n",
        "    },\n",
        "    \"id\": \"xYbzk8vCR8GE\",\n",
        "    \"outputId\": \"ca4ff374-0d3f-4462-a2e6-86d4ad0b5a27\"\n",
        "   },\n",
        "   \"outputs\": [],\n",
        "   \"source\": [\n",
        "    \"def get_county_stat(dataframe, county_fips):\\n\",\n",
        "    \"stats = dict()\\n\",\n",
        "\"stats['date'] = dataframe.loc[dataframe['fips'] == county_fips, ['date']]\\n\",\n",
        "\"stats['cases'] = dataframe.loc[dataframe['fips'] == county_fips, ['cases']]\\n\",\n",
        "\"stats['deaths'] = dataframe.loc[dataframe['fips'] == county_fips, ['deaths']]\\n\",\n",
        "\"return stats\"\n",
        "   ]\n",
        "}"
      ],
      "execution_count": null,
      "outputs": [
        {
          "output_type": "execute_result",
          "data": {
            "text/plain": [
              "{'cell_type': 'code',\n",
              " 'execution_count': 10,\n",
              " 'metadata': {'colab': {'base_uri': 'https://localhost:8080/', 'height': 227},\n",
              "  'executionInfo': {'elapsed': 412,\n",
              "   'status': 'ok',\n",
              "   'timestamp': 1599664649766,\n",
              "   'user': {'displayName': 'Amir Akhavan',\n",
              "    'photoUrl': 'https://lh3.googleusercontent.com/a-/AOh14GhuZ7DEnnX7fhJd6axbb96bIf-9rGZxGwMMKTY=s64',\n",
              "    'userId': '03341449936186710418'},\n",
              "   'user_tz': 240},\n",
              "  'id': 'xYbzk8vCR8GE',\n",
              "  'outputId': 'ca4ff374-0d3f-4462-a2e6-86d4ad0b5a27'},\n",
              " 'outputs': [],\n",
              " 'source': ['def get_county_stat(dataframe, county_fips):\\n',\n",
              "  'stats = dict()\\n',\n",
              "  \"stats['date'] = dataframe.loc[dataframe['fips'] == county_fips, ['date']]\\n\",\n",
              "  \"stats['cases'] = dataframe.loc[dataframe['fips'] == county_fips, ['cases']]\\n\",\n",
              "  \"stats['deaths'] = dataframe.loc[dataframe['fips'] == county_fips, ['deaths']]\\n\",\n",
              "  'return stats']}"
            ]
          },
          "metadata": {
            "tags": []
          },
          "execution_count": 12
        }
      ]
    },
    {
      "cell_type": "markdown",
      "metadata": {
        "id": "ZdvAU6NsXmXZ"
      },
      "source": [
        "## Explore data type"
      ]
    },
    {
      "cell_type": "code",
      "metadata": {
        "id": "SqrW8_oTXlxH"
      },
      "source": [
        "df_Bristol = get_county_stat(df,25005)\n",
        "df_Suffolk = get_county_stat(df,25025)"
      ],
      "execution_count": null,
      "outputs": []
    },
    {
      "cell_type": "code",
      "metadata": {
        "id": "pvwkK_bxZvA2",
        "colab": {
          "base_uri": "https://localhost:8080/",
          "height": 607
        },
        "outputId": "58f7f674-be98-44cc-f6cb-3e8994a57b13"
      },
      "source": [
        "import matplotlib.pyplot as plt\n",
        "f,ax = plt.subplots(1,2,figsize=(18,6)) \n",
        "{\n",
        "   \"cell_type\": \"code\",\n",
        "   \"execution_count\": 28,\n",
        "   \"metadata\": {\n",
        "    \"id\": \"OrJAkYWbc1b8\"\n",
        "   },\n",
        "   \"outputs\": [],\n",
        "   \"source\": [\n",
        "    \"bristol_cases= df[(df['state'].str.startswith('Mass')) & (df['county']=='Bristol')].copy()\\n\",\n",
        "    \"bristol_cases['date'] = pd.to_datetime(bristol_cases['date'])\\n\",\n",
        "    \"\\n\",\n",
        "    \"\\n\",\n",
        "    \"suffolk_cases= df[(df['state'].str.startswith('Mass')) & (df['county']=='Suffolk')].copy()\\n\",\n",
        "    \"suffolk_cases['date'] = pd.to_datetime(suffolk_cases['date'])\"\n",
        "   ]\n",
        "  },\n",
        "{\n",
        "\"cell_type\": \"code\",\n",
        "\"execution_count\": \"0\",\n",
        "   \"metadata\": {\n",
        "    \"id\": \"hw6xNqpdekv2\"\n",
        "   },\n",
        "   \"outputs\": [],\n",
        "   \"source\": []\n",
        "  },\n",
        "{\n",
        "   \"cell_type\": \"code\",\n",
        "   \"execution_count\": 29,\n",
        "   \"metadata\": {\n",
        "    \"colab\": {\n",
        "     \"base_Url\": \"https://localhost:8080/\",\n",
        "     \"height\": 286\n",
        "    },\n",
        "    \"executionInfo\": {\n",
        "     \"elapsed\": 828,\n",
        "     \"status\": \"ok\",\n",
        "     \"timestamp\": 1600101486906,\n",
        "     \"user\": {\n",
        "      \"displayName\": \"Amir Akhavan\",\n",
        "      \"photoUrl\": \"https://lh3.googleusercontent.com/a-/AOh14GhuZ7DEnnX7fhJd6axbb96bIf-9rGZxGwMMKTY=s64\",\n",
        "      \"userId\": \"03341449936186710418\"\n",
        "     },\n",
        "     \"user_tz\": 240\n",
        "    },\n",
        "    \"id\": \"lYE52OMEf5-r\",\n",
        "    \"outputId\": \"571112c4-4f22-4065-bc74-89ba45b2ff33\"\n",
        "   },\n",
        "   \"outputs\": [\n",
        "    {\n",
        "     \"data\": {\n",
        "      \"text/plain\": [\n",
        "       \"<BarContainer object of 90 artists>\"\n",
        "      ]\n",
        "     },\n",
        "     \"execution_count\": 29,\n",
        "     \"metadata\": {},\n",
        "     \"output_type\": \"execute_result\"\n",
        "    },\n",
        "    {\n",
        "     \"data\": {\n",
        "      \"image/png\": \"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\\n\",\n",
        "      \"text/plain\": [\n",
        "       \"<Figure size 432x288 with 1 Axes>\"\n",
        "      ]\n",
        "     },\n",
        "     \"metadata\": {\n",
        "      \"needs_background\": \"light\"\n",
        "     },\n",
        "     \"output_type\": \"display_data\"\n",
        "    }\n",
        "   ],\n",
        "   \"source\": [\n",
        "    \"f,ax = plt.subplots(1,1)\\n\",\n",
        "    \"ax.bar(bristol_cases.date.iloc[-90:],bristol_cases.cases.iloc[-90:])\\n\",\n",
        "    \"ax.bar(suffolk_cases.date.iloc[-90:],suffolk_cases.cases.iloc[-90:],\\n\",\n",
        "    \"       bottom = bristol_cases.cases.iloc[-90:]  )\\n\"\n",
        "   ]\n",
        "  },\n",
        "{\n",
        "   \"cell_type\": \"markdown\",\n",
        "   \"metadata\": {\n",
        "    \"id\": \"3Ir7AQGfSrl7\"\n",
        "   },\n",
        "   \"source\": [\n",
        "    \"## Top 10 counties by number of cases and deaths \\n\",\n",
        "    \"\\n\",\n",
        "    \"\\n\",\n",
        "    \"\\n\",\n",
        "    \"```\\n\",\n",
        "    \"# This is formatted as code\\n\",\n",
        "    \"```\\n\",\n",
        "    \"\\n\",\n",
        "    \"\\n\",\n",
        "    \"\\n\"\n",
        "   ]\n",
        "},\n",
        "{\n",
        "   \"cell_type\": \"code\",\n",
        "   \"execution_count\": 18,\n",
        "   \"metadata\": {\n",
        "    \"colab\": {\n",
        "     \"base_uri\": \"https://localhost:8080/\",\n",
        "     \"height\": 77\n",
        "    },\n",
        "    \"executionInfo\": {\n",
        "     \"elapsed\": 350,\n",
        "     \"status\": \"ok\",\n",
        "     \"timestamp\": 1600101625460,\n",
        "     \"user\": {\n",
        "      \"displayName\": \"Amir Akhavan\",\n",
        "      \"photoUrl\": \"https://lh3.googleusercontent.com/a-/AOh14GhuZ7DEnnX7fhJd6axbb96bIf-9rGZxGwMMKTY=s64\",\n",
        "      \"userId\": \"03341449936186710418\"\n",
        "     },\n",
        "     \"user_tz\": 240\n",
        "    },\n",
        "    \"id\": \"ni2N2mKefRlO\",\n",
        "    \"outputId\": \"a9497b78-a010-48ee-d9b9-228babd57d02\"\n",
        "   },\n",
        "   \"outputs\": [\n",
        "    {\n",
        "     \"data\": {\n",
        "      \"text/html\": [\n",
        "       \"<div>\\n\",\n",
        "       \"<style scoped>\\n\",\n",
        "       \"    .dataframe tbody tr th:only-of-type {\\n\",\n",
        "       \"        vertical-align: middle;\\n\",\n",
        "       \"    }\\n\",\n",
        "       \"\\n\",\n",
        "       \"    .dataframe tbody tr th {\\n\",\n",
        "       \"        vertical-align: top;\\n\",\n",
        "       \"    }\\n\",\n",
        "       \"\\n\",\n",
        "       \"    .dataframe thead th {\\n\",\n",
        "       \"        text-align: right;\\n\",\n",
        "       \"    }\\n\",\n",
        "       \"</style>\\n\",\n",
        "       \"<table border=\\\"1\\\" class=\\\"dataframe\\\">\\n\",\n",
        "       \"  <thead>\\n\",\n",
        "       \"    <tr style=\\\"text-align: right;\\\">\\n\",\n",
        "       \"      <th></th>\\n\",\n",
        "       \"      <th>date</th>\\n\",\n",
        "       \"      <th>county</th>\\n\",\n",
        "       \"      <th>state</th>\\n\",\n",
        "       \"      <th>fips</th>\\n\",\n",
        "       \"      <th>cases</th>\\n\",\n",
        "       \"      <th>deaths</th>\\n\",\n",
        "       \"    </tr>\\n\",\n",
        "       \"  </thead>\\n\",\n",
        "       \"  <tbody>\\n\",\n",
        "       \"    <tr>\\n\",\n",
        "       \"      <th>0</th>\\n\",\n",
        "       \"      <td>2020-01-21</td>\\n\",\n",
        "       \"      <td>Snohomish</td>\\n\",\n",
        "       \"      <td>Washington</td>\\n\",\n",
        "       \"      <td>53061.0</td>\\n\",\n",
        "       \"      <td>1</td>\\n\",\n",
        "       \"      <td>0.0</td>\\n\",\n",
        "       \"    </tr>\\n\",\n",
        "       \"  </tbody>\\n\",\n",
        "       \"</table>\\n\",\n",
        "       \"</div>\"\n",
        "      ],\n",
        "      \"text/plain\": [\n",
        "       \"         date     county       state     fips  cases  deaths\\n\",\n",
        "       \"0  2020-01-21  Snohomish  Washington  53061.0      1     0.0\"\n",
        "      ]\n",
        "     },\n",
        "     \"execution_count\": 18,\n",
        "     \"metadata\": {},\n",
        "     \"output_type\": \"execute_result\"\n",
        "    }\n",
        "   ],\n",
        "   \"source\": [\n",
        "    \"df.head(1)\"\n",
        "   ]\n",
        "  },\n",
        "{\n",
        "   \"cell_type\": \"code\",\n",
        "   \"execution_count\": 19,\n",
        "   \"metadata\": {\n",
        "    \"id\": \"Z8GA6_6vfTbw\"\n",
        "   },\n",
        "   \"outputs\": [],\n",
        "   \"source\": [\n",
        "    \"grp = df.groupby('fips')#['date'].last().unique()#.last()#.sort_values(by='cases',ascending=False ).head(10)\"\n",
        "   ]\n",
        "  },\n",
        "{\n",
        "   \"cell_type\": \"code\",\n",
        "   \"execution_count\": \"null\",\n",
        "   \"metadata\": {\n",
        "    \"id\": \"55MKQhgFiDDl\"\n",
        "   },\n",
        "   \"outputs\": [],\n",
        "   \"source\": []\n",
        "  },\n",
        "{\n",
        "   \"cell_type\": \"code\",\n",
        "   \"execution_count\": 20,\n",
        "   \"metadata\": {\n",
        "    \"colab\": {\n",
        "     \"base_uri\": \"https://localhost:8080/\",\n",
        "     \"height\": 402\n",
        "    },\n",
        "    \"executionInfo\": {\n",
        "     \"elapsed\": 403,\n",
        "     \"status\": \"ok\",\n",
        "     \"timestamp\": 1600102443829,\n",
        "     \"user\": {\n",
        "      \"displayName\": \"Amir Akhavan\",\n",
        "      \"photoUrl\": \"https://lh3.googleusercontent.com/a-/AOh14GhuZ7DEnnX7fhJd6axbb96bIf-9rGZxGwMMKTY=s64\",\n",
        "      \"userId\": \"03341449936186710418\"\n",
        "     },\n",
        "     \"user_tz\": 240\n",
        "    },\n",
        "    \"id\": \"Ymx3jWdoiMEd\",\n",
        "    \"outputId\": \"2d817c4a-3d87-4eef-eef2-1b25499871c7\"\n",
        "   },\n",
        "   \"outputs\": [\n",
        "    {\n",
        "     \"ename\": \"NameError\",\n",
        "     \"evalue\": \"name 'lst' is not defined\",\n",
        "     \"output_type\": \"error\",\n",
        "     \"traceback\": [\n",
        "      \"\\u001b[0;31m---------------------------------------------------------------------------\\u001b[0m\",\n",
        "      \"\\u001b[0;31mNameError\\u001b[0m                                 Traceback (most recent call last)\",\n",
        "      \"\\u001b[0;32m<ipython-input-20-ddfbc0e33a35>\\u001b[0m in \\u001b[0;36m<module>\\u001b[0;34m\\u001b[0m\\n\\u001b[0;32m----> 1\\u001b[0;31m \\u001b[0mlst\\u001b[0m\\u001b[0;34m[\\u001b[0m\\u001b[0;34m-\\u001b[0m\\u001b[0;36m1\\u001b[0m\\u001b[0;34m]\\u001b[0m\\u001b[0;34m\\u001b[0m\\u001b[0;34m\\u001b[0m\\u001b[0m\\n\\u001b[0m\",\n",
        "      \"\\u001b[0;31mNameError\\u001b[0m: name 'lst' is not defined\"\n",
        "     ]\n",
        "    }\n",
        "   ],\n",
        "   \"source\": [\n",
        "    \"lst[-1]\"\n",
        "   ]\n",
        "  },\n",
        "{\n",
        "   \"cell_type\": \"code\",\n",
        "   \"execution_count\": 21,\n",
        "   \"metadata\": {\n",
        "    \"colab\": {\n",
        "     \"base_uri\": \"https://localhost:8080/\",\n",
        "     \"height\": 343\n",
        "    },\n",
        "    \"executionInfo\": {\n",
        "     \"elapsed\": 353,\n",
        "     \"status\": \"ok\",\n",
        "     \"timestamp\": 1600102106496,\n",
        "     \"user\": {\n",
        "      \"displayName\": \"Amir Akhavan\",\n",
        "      \"photoUrl\": \"https://lh3.googleusercontent.com/a-/AOh14GhuZ7DEnnX7fhJd6axbb96bIf-9rGZxGwMMKTY=s64\",\n",
        "      \"userId\": \"03341449936186710418\"\n",
        "     },\n",
        "     \"user_tz\": 240\n",
        "    },\n",
        "    \"id\": \"fYH_CkA8fqEf\",\n",
        "    \"outputId\": \"f5b32be8-dcfa-4a41-845f-8e9fc99288ed\"\n",
        "   },\n",
        "   \"outputs\": [\n",
        "    {\n",
        "     \"data\": {\n",
        "      \"text/html\": [\n",
        "       \"<div>\\n\",\n",
        "       \"<style scoped>\\n\",\n",
        "       \"    .dataframe tbody tr th:only-of-type {\\n\",\n",
        "       \"        vertical-align: middle;\\n\",\n",
        "       \"    }\\n\",\n",
        "       \"\\n\",\n",
        "       \"    .dataframe tbody tr th {\\n\",\n",
        "       \"        vertical-align: top;\\n\",\n",
        "       \"    }\\n\",\n",
        "       \"\\n\",\n",
        "       \"    .dataframe thead th {\\n\",\n",
        "       \"        text-align: right;\\n\",\n",
        "       \"    }\\n\",\n",
        "       \"</style>\\n\",\n",
        "       \"<table border=\\\"1\\\" class=\\\"dataframe\\\">\\n\",\n",
        "       \"  <thead>\\n\",\n",
        "       \"    <tr style=\\\"text-align: right;\\\">\\n\",\n",
        "       \"      <th></th>\\n\",\n",
        "       \"      <th>date</th>\\n\",\n",
        "       \"      <th>county</th>\\n\",\n",
        "       \"      <th>state</th>\\n\",\n",
        "       \"      <th>fips</th>\\n\",\n",
        "       \"      <th>cases</th>\\n\",\n",
        "       \"      <th>deaths</th>\\n\",\n",
        "       \"    </tr>\\n\",\n",
        "       \"  </thead>\\n\",\n",
        "       \"  <tbody>\\n\",\n",
        "       \"    <tr>\\n\",\n",
        "       \"      <th>528209</th>\\n\",\n",
        "       \"      <td>2020-09-13</td>\\n\",\n",
        "       \"      <td>Los Angeles</td>\\n\",\n",
        "       \"      <td>California</td>\\n\",\n",
        "       \"      <td>6037.0</td>\\n\",\n",
        "       \"      <td>253985</td>\\n\",\n",
        "       \"      <td>6208.0</td>\\n\",\n",
        "       \"    </tr>\\n\",\n",
        "       \"    <tr>\\n\",\n",
        "       \"      <th>529872</th>\\n\",\n",
        "       \"      <td>2020-09-13</td>\\n\",\n",
        "       \"      <td>New York City</td>\\n\",\n",
        "       \"      <td>New York</td>\\n\",\n",
        "       \"      <td>NaN</td>\\n\",\n",
        "       \"      <td>242486</td>\\n\",\n",
        "       \"      <td>23743.0</td>\\n\",\n",
        "       \"    </tr>\\n\",\n",
        "       \"    <tr>\\n\",\n",
        "       \"      <th>528368</th>\\n\",\n",
        "       \"      <td>2020-09-13</td>\\n\",\n",
        "       \"      <td>Miami-Dade</td>\\n\",\n",
        "       \"      <td>Florida</td>\\n\",\n",
        "       \"      <td>12086.0</td>\\n\",\n",
        "       \"      <td>164085</td>\\n\",\n",
        "       \"      <td>2880.0</td>\\n\",\n",
        "       \"    </tr>\\n\",\n",
        "       \"    <tr>\\n\",\n",
        "       \"      <th>528107</th>\\n\",\n",
        "       \"      <td>2020-09-13</td>\\n\",\n",
        "       \"      <td>Maricopa</td>\\n\",\n",
        "       \"      <td>Arizona</td>\\n\",\n",
        "       \"      <td>4013.0</td>\\n\",\n",
        "       \"      <td>137507</td>\\n\",\n",
        "       \"      <td>3154.0</td>\\n\",\n",
        "       \"    </tr>\\n\",\n",
        "       \"    <tr>\\n\",\n",
        "       \"      <th>528618</th>\\n\",\n",
        "       \"      <td>2020-09-13</td>\\n\",\n",
        "       \"      <td>Cook</td>\\n\",\n",
        "       \"      <td>Illinois</td>\\n\",\n",
        "       \"      <td>17031.0</td>\\n\",\n",
        "       \"      <td>134801</td>\\n\",\n",
        "       \"      <td>5133.0</td>\\n\",\n",
        "       \"    </tr>\\n\",\n",
        "       \"    <tr>\\n\",\n",
        "       \"      <th>530719</th>\\n\",\n",
        "       \"      <td>2020-09-13</td>\\n\",\n",
        "       \"      <td>Harris</td>\\n\",\n",
        "       \"      <td>Texas</td>\\n\",\n",
        "       \"      <td>48201.0</td>\\n\",\n",
        "       \"      <td>116172</td>\\n\",\n",
        "       \"      <td>2420.0</td>\\n\",\n",
        "       \"    </tr>\\n\",\n",
        "       \"    <tr>\\n\",\n",
        "       \"      <th>530675</th>\\n\",\n",
        "       \"      <td>2020-09-13</td>\\n\",\n",
        "       \"      <td>Dallas</td>\\n\",\n",
        "       \"      <td>Texas</td>\\n\",\n",
        "       \"      <td>48113.0</td>\\n\",\n",
        "       \"      <td>78511</td>\\n\",\n",
        "       \"      <td>1045.0</td>\\n\",\n",
        "       \"    </tr>\\n\",\n",
        "       \"    <tr>\\n\",\n",
        "       \"      <th>528331</th>\\n\",\n",
        "       \"      <td>2020-09-13</td>\\n\",\n",
        "       \"      <td>Broward</td>\\n\",\n",
        "       \"      <td>Florida</td>\\n\",\n",
        "       \"      <td>12011.0</td>\\n\",\n",
        "       \"      <td>74434</td>\\n\",\n",
        "       \"      <td>1280.0</td>\\n\",\n",
        "       \"    </tr>\\n\",\n",
        "       \"    <tr>\\n\",\n",
        "       \"      <th>529763</th>\\n\",\n",
        "       \"      <td>2020-09-13</td>\\n\",\n",
        "       \"      <td>Clark</td>\\n\",\n",
        "       \"      <td>Nevada</td>\\n\",\n",
        "       \"      <td>32003.0</td>\\n\",\n",
        "       \"      <td>62650</td>\\n\",\n",
        "       \"      <td>1260.0</td>\\n\",\n",
        "       \"    </tr>\\n\",\n",
        "       \"    <tr>\\n\",\n",
        "       \"      <th>528223</th>\\n\",\n",
        "       \"      <td>2020-09-13</td>\\n\",\n",
        "       \"      <td>Riverside</td>\\n\",\n",
        "       \"      <td>California</td>\\n\",\n",
        "       \"      <td>6065.0</td>\\n\",\n",
        "       \"      <td>55073</td>\\n\",\n",
        "       \"      <td>1103.0</td>\\n\",\n",
        "       \"    </tr>\\n\",\n",
        "       \"  </tbody>\\n\",\n",
        "       \"</table>\\n\",\n",
        "       \"</div>\"\n",
        "      ],\n",
        "      \"text/plain\": [\n",
        "       \"             date         county       state     fips   cases   deaths\\n\",\n",
        "       \"528209 2020-09-13    Los Angeles  California   6037.0  253985   6208.0\\n\",\n",
        "       \"529872 2020-09-13  New York City    New York      NaN  242486  23743.0\\n\",\n",
        "       \"528368 2020-09-13     Miami-Dade     Florida  12086.0  164085   2880.0\\n\",\n",
        "       \"528107 2020-09-13       Maricopa     Arizona   4013.0  137507   3154.0\\n\",\n",
        "       \"528618 2020-09-13           Cook    Illinois  17031.0  134801   5133.0\\n\",\n",
        "       \"530719 2020-09-13         Harris       Texas  48201.0  116172   2420.0\\n\",\n",
        "       \"530675 2020-09-13         Dallas       Texas  48113.0   78511   1045.0\\n\",\n",
        "       \"528331 2020-09-13        Broward     Florida  12011.0   74434   1280.0\\n\",\n",
        "       \"529763 2020-09-13          Clark      Nevada  32003.0   62650   1260.0\\n\",\n",
        "       \"528223 2020-09-13      Riverside  California   6065.0   55073   1103.0\"\n",
        "      ]\n",
        "     },\n",
        "     \"execution_count\": 21,\n",
        "     \"metadata\": {},\n",
        "     \"output_type\": \"execute_result\"\n",
        "    }\n",
        "   ],\n",
        "   \"source\": [\n",
        "    \"df['date']=pd.to_datetime(df['date'])\\n\",\n",
        "    \"top10 = df[df['date'] == '2020-09-13'].sort_values(by='cases',ascending=False).head(10).copy()\\n\",\n",
        "    \"top10\\n\"\n",
        "   ]\n",
        "  },\n",
        "{\n",
        "   \"cell_type\": \"markdown\",\n",
        "   \"metadata\": {\n",
        "    \"id\": \"aHvTcmdfgy38\"\n",
        "   },\n",
        "   \"source\": [\n",
        "    \"## Death rate Per FIPS \"\n",
        "   ]\n",
        "  },\n",
        "{\n",
        "   \"cell_type\": \"code\",\n",
        "   \"execution_count\": 0,\n",
        "   \"metadata\": {\n",
        "    \"id\": \"9fNijuO8R9Hx\"\n",
        "   },\n",
        "   \"outputs\": [],\n",
        "   \"source\": []\n",
        "  },\n",
        "{\n",
        "   \"cell_type\": \"code\",\n",
        "   \"execution_count\": 0,\n",
        "   \"metadata\": {\n",
        "    \"id\": \"1lJmC-FEhhY-\"\n",
        "   },\n",
        "   \"outputs\": [],\n",
        "   \"source\": []\n",
        "  },\n",
        "{\n",
        "   \"cell_type\": \"markdown\",\n",
        "   \"metadata\": {\n",
        "    \"id\": \"FqTGKtk5hQ-I\"\n",
        "   },\n",
        "   \"source\": [\n",
        "    \"## <font color = red> Bonus Point</font>\\n\",\n",
        "    \"\\n\",\n",
        "    \"### A function that makes \\\"Folium Choropleth Map\\\" for Weekly Cases, Weekly Deaths and Weekly Mortality Rate </font>\\n\",\n",
        "    \"\\n\",\n",
        "    \"ALL COUNTIES\\n\",\n",
        "    \"\\n\",\n",
        "    \"<br>\\n\",\n",
        "    \"\\n\",\n",
        "    \"### def Folium_Choropleth(type = 'cases',date=''):\\n\",\n",
        "    \"\\n\",\n",
        "    \"<br>\\n\",\n",
        "    \"\\n\",\n",
        "    \"## Due for Bonus point : Wednesday (09/16/2020 12:00pm)\"\n",
        "   ]\n",
        "  },\n",
        "{\n",
        "   \"cell_type\": \"code\",\n",
        "   \"execution_count\": 0,\n",
        "   \"metadata\": {\n",
        "    \"id\": \"Qi9EZlbmhPh2\"\n",
        "   },\n",
        "   \"outputs\": [],\n",
        "   \"source\": []\n",
        "  },\n",
        "{\n",
        "   \"cell_type\": \"code\",\n",
        "   \"execution_count\": 0,\n",
        "   \"metadata\": {\n",
        "    \"id\": \"QM_OR4VxSqEN\"\n",
        "   },\n",
        "   \"outputs\": [],\n",
        "   \"source\": []\n",
        "  },\n",
        "{\n",
        "   \"cell_type\": \"code\",\n",
        "   \"execution_count\": 0,\n",
        "   \"metadata\": {\n",
        "    \"id\": \"296nY_KHhOc0\"\n",
        "   },\n",
        "   \"outputs\": [],\n",
        "   \"source\": []\n",
        "  }\n",
        "{\n",
        " \"metadata\": {\n",
        "  \"colab\": {\n",
        "   \"collapsed_sections\": [],\n",
        "   \"name\": \"Class_Activity_Lec03.ipynb\",\n",
        "   \"provenance\": [\n",
        "    {\n",
        "     \"file_id\": \"1KXm9MXg0dSwohJPBD7tWxDxCtlvOi-CS\",\n",
        "     \"timestamp\": 1606615579909\n",
        "    }\n",
        "   ],\n",
        "   \"toc_visible\": True\n",
        "  },\n",
        "  \"kernelspec\": {\n",
        "   \"display_name\": \"Python 3\",\n",
        "   \"language\": \"python\",\n",
        "   \"name\": \"python3\"\n",
        "  },\n",
        "  \"language_info\": {\n",
        "   \"codemirror_mode\": {\n",
        "    \"name\": \"ipython\",\n",
        "    \"version\": 3\n",
        "   },\n",
        "   \"file_extension\": \".py\",\n",
        "   \"mimetype\": \"text/x-python\",\n",
        "   \"name\": \"python\",\n",
        "   \"nbconvert_exporter\": \"python\",\n",
        "   \"pygments_lexer\": \"ipython3\",\n",
        "   \"version\": \"3.8.3\"\n",
        "  }\n",
        " },\n",
        " \"nbformat\": 4,\n",
        " \"nbformat_minor\": 1\n",
        "}"
      ],
      "execution_count": null,
      "outputs": [
        {
          "output_type": "execute_result",
          "data": {
            "text/plain": [
              "{'metadata': {'colab': {'collapsed_sections': [],\n",
              "   'name': 'Class_Activity_Lec03.ipynb',\n",
              "   'provenance': [{'file_id': '1KXm9MXg0dSwohJPBD7tWxDxCtlvOi-CS',\n",
              "     'timestamp': 1606615579909}],\n",
              "   'toc_visible': True},\n",
              "  'kernelspec': {'display_name': 'Python 3',\n",
              "   'language': 'python',\n",
              "   'name': 'python3'},\n",
              "  'language_info': {'codemirror_mode': {'name': 'ipython', 'version': 3},\n",
              "   'file_extension': '.py',\n",
              "   'mimetype': 'text/x-python',\n",
              "   'name': 'python',\n",
              "   'nbconvert_exporter': 'python',\n",
              "   'pygments_lexer': 'ipython3',\n",
              "   'version': '3.8.3'}},\n",
              " 'nbformat': 4,\n",
              " 'nbformat_minor': 1}"
            ]
          },
          "metadata": {
            "tags": []
          },
          "execution_count": 1
        },
        {
          "output_type": "display_data",
          "data": {
            "image/png": "[encoded data removed]",
            "text/plain": [
              "<Figure size 1296x432 with 2 Axes>"
            ]
          },
          "metadata": {
            "tags": [],
            "needs_background": "light"
          }
        }
      ]
    },
    {
      "cell_type": "code",
      "metadata": {
        "id": "OrJAkYWbc1b8"
      },
      "source": [
        "bristol_cases= df[(df['state'].str.startswith('Mass')) & (df['county']=='Bristol')].copy()\n",
        "bristol_cases['date'] = pd.to_datetime(bristol_cases['date'])\n",
        "\n",
        "\n",
        "suffolk_cases= df[(df['state'].str.startswith('Mass')) & (df['county']=='Suffolk')].copy()\n",
        "suffolk_cases['date'] = pd.to_datetime(suffolk_cases['date'])"
      ],
      "execution_count": null,
      "outputs": []
    },
    {
      "cell_type": "code",
      "metadata": {
        "id": "hw6xNqpdekv2"
      },
      "source": [
        ""
      ],
      "execution_count": null,
      "outputs": []
    },
    {
      "cell_type": "code",
      "metadata": {
        "id": "lYE52OMEf5-r",
        "colab": {
          "base_uri": "https://localhost:8080/",
          "height": 286
        },
        "outputId": "571112c4-4f22-4065-bc74-89ba45b2ff33"
      },
      "source": [
        "f,ax = plt.subplots(1,1)\n",
        "ax.bar(bristol_cases.date.iloc[-90:],bristol_cases.cases.iloc[-90:])\n",
        "ax.bar(suffolk_cases.date.iloc[-90:],suffolk_cases.cases.iloc[-90:],\n",
        "       bottom = bristol_cases.cases.iloc[-90:]  )\n"
      ],
      "execution_count": null,
      "outputs": [
        {
          "output_type": "execute_result",
          "data": {
            "text/plain": [
              "<BarContainer object of 90 artists>"
            ]
          },
          "metadata": {
            "tags": []
          },
          "execution_count": 17
        },
        {
          "output_type": "display_data",
          "data": {
            "image/png": "[encoded data removed]",
            "text/plain": [
              "<Figure size 432x288 with 1 Axes>"
            ]
          },
          "metadata": {
            "tags": [],
            "needs_background": "light"
          }
        }
      ]
    },
    {
      "cell_type": "markdown",
      "metadata": {
        "id": "3Ir7AQGfSrl7"
      },
      "source": [
        "## Top 10 counties by number of cases and deaths \n",
        "\n",
        "\n",
        "\n",
        "```\n",
        "# This is formatted as code\n",
        "```\n",
        "\n",
        "\n",
        "\n"
      ]
    },
    {
      "cell_type": "code",
      "metadata": {
        "id": "ni2N2mKefRlO",
        "colab": {
          "base_uri": "https://localhost:8080/",
          "height": 77
        },
        "outputId": "a9497b78-a010-48ee-d9b9-228babd57d02"
      },
      "source": [
        "df.head(1)"
      ],
      "execution_count": null,
      "outputs": [
        {
          "output_type": "execute_result",
          "data": {
            "text/html": [
              "<div>\n",
              "<style scoped>\n",
              "    .dataframe tbody tr th:only-of-type {\n",
              "        vertical-align: middle;\n",
              "    }\n",
              "\n",
              "    .dataframe tbody tr th {\n",
              "        vertical-align: top;\n",
              "    }\n",
              "\n",
              "    .dataframe thead th {\n",
              "        text-align: right;\n",
              "    }\n",
              "</style>\n",
              "<table border=\"1\" class=\"dataframe\">\n",
              "  <thead>\n",
              "    <tr style=\"text-align: right;\">\n",
              "      <th></th>\n",
              "      <th>date</th>\n",
              "      <th>county</th>\n",
              "      <th>state</th>\n",
              "      <th>fips</th>\n",
              "      <th>cases</th>\n",
              "      <th>deaths</th>\n",
              "    </tr>\n",
              "  </thead>\n",
              "  <tbody>\n",
              "    <tr>\n",
              "      <th>0</th>\n",
              "      <td>2020-01-21</td>\n",
              "      <td>Snohomish</td>\n",
              "      <td>Washington</td>\n",
              "      <td>53061.0</td>\n",
              "      <td>1</td>\n",
              "      <td>0</td>\n",
              "    </tr>\n",
              "  </tbody>\n",
              "</table>\n",
              "</div>"
            ],
            "text/plain": [
              "         date     county       state     fips  cases  deaths\n",
              "0  2020-01-21  Snohomish  Washington  53061.0      1       0"
            ]
          },
          "metadata": {
            "tags": []
          },
          "execution_count": 18
        }
      ]
    },
    {
      "cell_type": "code",
      "metadata": {
        "id": "Z8GA6_6vfTbw"
      },
      "source": [
        "grp = df.groupby('fips')#['date'].last().unique()#.last()#.sort_values(by='cases',ascending=False ).head(10)"
      ],
      "execution_count": null,
      "outputs": []
    },
    {
      "cell_type": "code",
      "metadata": {
        "id": "55MKQhgFiDDl"
      },
      "source": [
        ""
      ],
      "execution_count": null,
      "outputs": []
    },
    {
      "cell_type": "code",
      "metadata": {
        "id": "Ymx3jWdoiMEd",
        "colab": {
          "base_uri": "https://localhost:8080/",
          "height": 402
        },
        "outputId": "2d817c4a-3d87-4eef-eef2-1b25499871c7"
      },
      "source": [
        "lst[-1]"
      ],
      "execution_count": null,
      "outputs": [
        {
          "output_type": "execute_result",
          "data": {
            "text/html": [
              "<div>\n",
              "<style scoped>\n",
              "    .dataframe tbody tr th:only-of-type {\n",
              "        vertical-align: middle;\n",
              "    }\n",
              "\n",
              "    .dataframe tbody tr th {\n",
              "        vertical-align: top;\n",
              "    }\n",
              "\n",
              "    .dataframe thead th {\n",
              "        text-align: right;\n",
              "    }\n",
              "</style>\n",
              "<table border=\"1\" class=\"dataframe\">\n",
              "  <thead>\n",
              "    <tr style=\"text-align: right;\">\n",
              "      <th></th>\n",
              "      <th>date</th>\n",
              "      <th>county</th>\n",
              "      <th>state</th>\n",
              "      <th>fips</th>\n",
              "      <th>cases</th>\n",
              "      <th>deaths</th>\n",
              "    </tr>\n",
              "  </thead>\n",
              "  <tbody>\n",
              "    <tr>\n",
              "      <th>37820</th>\n",
              "      <td>2020-04-06</td>\n",
              "      <td>St. Thomas</td>\n",
              "      <td>Virgin Islands</td>\n",
              "      <td>78030.0</td>\n",
              "      <td>29</td>\n",
              "      <td>0</td>\n",
              "    </tr>\n",
              "    <tr>\n",
              "      <th>40350</th>\n",
              "      <td>2020-04-07</td>\n",
              "      <td>St. Thomas</td>\n",
              "      <td>Virgin Islands</td>\n",
              "      <td>78030.0</td>\n",
              "      <td>39</td>\n",
              "      <td>0</td>\n",
              "    </tr>\n",
              "    <tr>\n",
              "      <th>42919</th>\n",
              "      <td>2020-04-08</td>\n",
              "      <td>St. Thomas</td>\n",
              "      <td>Virgin Islands</td>\n",
              "      <td>78030.0</td>\n",
              "      <td>30</td>\n",
              "      <td>0</td>\n",
              "    </tr>\n",
              "    <tr>\n",
              "      <th>45513</th>\n",
              "      <td>2020-04-09</td>\n",
              "      <td>St. Thomas</td>\n",
              "      <td>Virgin Islands</td>\n",
              "      <td>78030.0</td>\n",
              "      <td>34</td>\n",
              "      <td>0</td>\n",
              "    </tr>\n",
              "    <tr>\n",
              "      <th>48137</th>\n",
              "      <td>2020-04-10</td>\n",
              "      <td>St. Thomas</td>\n",
              "      <td>Virgin Islands</td>\n",
              "      <td>78030.0</td>\n",
              "      <td>35</td>\n",
              "      <td>0</td>\n",
              "    </tr>\n",
              "    <tr>\n",
              "      <th>...</th>\n",
              "      <td>...</td>\n",
              "      <td>...</td>\n",
              "      <td>...</td>\n",
              "      <td>...</td>\n",
              "      <td>...</td>\n",
              "      <td>...</td>\n",
              "    </tr>\n",
              "    <tr>\n",
              "      <th>517972</th>\n",
              "      <td>2020-09-09</td>\n",
              "      <td>St. Thomas</td>\n",
              "      <td>Virgin Islands</td>\n",
              "      <td>78030.0</td>\n",
              "      <td>718</td>\n",
              "      <td>11</td>\n",
              "    </tr>\n",
              "    <tr>\n",
              "      <th>521209</th>\n",
              "      <td>2020-09-10</td>\n",
              "      <td>St. Thomas</td>\n",
              "      <td>Virgin Islands</td>\n",
              "      <td>78030.0</td>\n",
              "      <td>721</td>\n",
              "      <td>11</td>\n",
              "    </tr>\n",
              "    <tr>\n",
              "      <th>524445</th>\n",
              "      <td>2020-09-11</td>\n",
              "      <td>St. Thomas</td>\n",
              "      <td>Virgin Islands</td>\n",
              "      <td>78030.0</td>\n",
              "      <td>721</td>\n",
              "      <td>11</td>\n",
              "    </tr>\n",
              "    <tr>\n",
              "      <th>527681</th>\n",
              "      <td>2020-09-12</td>\n",
              "      <td>St. Thomas</td>\n",
              "      <td>Virgin Islands</td>\n",
              "      <td>78030.0</td>\n",
              "      <td>735</td>\n",
              "      <td>12</td>\n",
              "    </tr>\n",
              "    <tr>\n",
              "      <th>530918</th>\n",
              "      <td>2020-09-13</td>\n",
              "      <td>St. Thomas</td>\n",
              "      <td>Virgin Islands</td>\n",
              "      <td>78030.0</td>\n",
              "      <td>735</td>\n",
              "      <td>12</td>\n",
              "    </tr>\n",
              "  </tbody>\n",
              "</table>\n",
              "<p>161 rows × 6 columns</p>\n",
              "</div>"
            ],
            "text/plain": [
              "             date      county           state     fips  cases  deaths\n",
              "37820  2020-04-06  St. Thomas  Virgin Islands  78030.0     29       0\n",
              "40350  2020-04-07  St. Thomas  Virgin Islands  78030.0     39       0\n",
              "42919  2020-04-08  St. Thomas  Virgin Islands  78030.0     30       0\n",
              "45513  2020-04-09  St. Thomas  Virgin Islands  78030.0     34       0\n",
              "48137  2020-04-10  St. Thomas  Virgin Islands  78030.0     35       0\n",
              "...           ...         ...             ...      ...    ...     ...\n",
              "517972 2020-09-09  St. Thomas  Virgin Islands  78030.0    718      11\n",
              "521209 2020-09-10  St. Thomas  Virgin Islands  78030.0    721      11\n",
              "524445 2020-09-11  St. Thomas  Virgin Islands  78030.0    721      11\n",
              "527681 2020-09-12  St. Thomas  Virgin Islands  78030.0    735      12\n",
              "530918 2020-09-13  St. Thomas  Virgin Islands  78030.0    735      12\n",
              "\n",
              "[161 rows x 6 columns]"
            ]
          },
          "metadata": {
            "tags": []
          },
          "execution_count": 42
        }
      ]
    },
    {
      "cell_type": "code",
      "metadata": {
        "id": "fYH_CkA8fqEf",
        "colab": {
          "base_uri": "https://localhost:8080/",
          "height": 343
        },
        "outputId": "f5b32be8-dcfa-4a41-845f-8e9fc99288ed"
      },
      "source": [
        "\n",
        "df['date']=pd.to_datetime(df['date'])\n",
        "top10 = df[df['date'] == '2020-09-13'].sort_values(by='cases',ascending=False).head(10).copy()\n",
        "top10\n"
      ],
      "execution_count": null,
      "outputs": [
        {
          "output_type": "execute_result",
          "data": {
            "text/html": [
              "<div>\n",
              "<style scoped>\n",
              "    .dataframe tbody tr th:only-of-type {\n",
              "        vertical-align: middle;\n",
              "    }\n",
              "\n",
              "    .dataframe tbody tr th {\n",
              "        vertical-align: top;\n",
              "    }\n",
              "\n",
              "    .dataframe thead th {\n",
              "        text-align: right;\n",
              "    }\n",
              "</style>\n",
              "<table border=\"1\" class=\"dataframe\">\n",
              "  <thead>\n",
              "    <tr style=\"text-align: right;\">\n",
              "      <th></th>\n",
              "      <th>date</th>\n",
              "      <th>county</th>\n",
              "      <th>state</th>\n",
              "      <th>fips</th>\n",
              "      <th>cases</th>\n",
              "      <th>deaths</th>\n",
              "    </tr>\n",
              "  </thead>\n",
              "  <tbody>\n",
              "    <tr>\n",
              "      <th>528209</th>\n",
              "      <td>2020-09-13</td>\n",
              "      <td>Los Angeles</td>\n",
              "      <td>California</td>\n",
              "      <td>6037.0</td>\n",
              "      <td>253985</td>\n",
              "      <td>6208</td>\n",
              "    </tr>\n",
              "    <tr>\n",
              "      <th>529872</th>\n",
              "      <td>2020-09-13</td>\n",
              "      <td>New York City</td>\n",
              "      <td>New York</td>\n",
              "      <td>NaN</td>\n",
              "      <td>242486</td>\n",
              "      <td>23743</td>\n",
              "    </tr>\n",
              "    <tr>\n",
              "      <th>528368</th>\n",
              "      <td>2020-09-13</td>\n",
              "      <td>Miami-Dade</td>\n",
              "      <td>Florida</td>\n",
              "      <td>12086.0</td>\n",
              "      <td>164085</td>\n",
              "      <td>2880</td>\n",
              "    </tr>\n",
              "    <tr>\n",
              "      <th>528107</th>\n",
              "      <td>2020-09-13</td>\n",
              "      <td>Maricopa</td>\n",
              "      <td>Arizona</td>\n",
              "      <td>4013.0</td>\n",
              "      <td>137507</td>\n",
              "      <td>3154</td>\n",
              "    </tr>\n",
              "    <tr>\n",
              "      <th>528618</th>\n",
              "      <td>2020-09-13</td>\n",
              "      <td>Cook</td>\n",
              "      <td>Illinois</td>\n",
              "      <td>17031.0</td>\n",
              "      <td>134801</td>\n",
              "      <td>5133</td>\n",
              "    </tr>\n",
              "    <tr>\n",
              "      <th>530719</th>\n",
              "      <td>2020-09-13</td>\n",
              "      <td>Harris</td>\n",
              "      <td>Texas</td>\n",
              "      <td>48201.0</td>\n",
              "      <td>116172</td>\n",
              "      <td>2420</td>\n",
              "    </tr>\n",
              "    <tr>\n",
              "      <th>530675</th>\n",
              "      <td>2020-09-13</td>\n",
              "      <td>Dallas</td>\n",
              "      <td>Texas</td>\n",
              "      <td>48113.0</td>\n",
              "      <td>78511</td>\n",
              "      <td>1045</td>\n",
              "    </tr>\n",
              "    <tr>\n",
              "      <th>528331</th>\n",
              "      <td>2020-09-13</td>\n",
              "      <td>Broward</td>\n",
              "      <td>Florida</td>\n",
              "      <td>12011.0</td>\n",
              "      <td>74434</td>\n",
              "      <td>1280</td>\n",
              "    </tr>\n",
              "    <tr>\n",
              "      <th>529763</th>\n",
              "      <td>2020-09-13</td>\n",
              "      <td>Clark</td>\n",
              "      <td>Nevada</td>\n",
              "      <td>32003.0</td>\n",
              "      <td>62650</td>\n",
              "      <td>1260</td>\n",
              "    </tr>\n",
              "    <tr>\n",
              "      <th>528223</th>\n",
              "      <td>2020-09-13</td>\n",
              "      <td>Riverside</td>\n",
              "      <td>California</td>\n",
              "      <td>6065.0</td>\n",
              "      <td>55073</td>\n",
              "      <td>1103</td>\n",
              "    </tr>\n",
              "  </tbody>\n",
              "</table>\n",
              "</div>"
            ],
            "text/plain": [
              "             date         county       state     fips   cases  deaths\n",
              "528209 2020-09-13    Los Angeles  California   6037.0  253985    6208\n",
              "529872 2020-09-13  New York City    New York      NaN  242486   23743\n",
              "528368 2020-09-13     Miami-Dade     Florida  12086.0  164085    2880\n",
              "528107 2020-09-13       Maricopa     Arizona   4013.0  137507    3154\n",
              "528618 2020-09-13           Cook    Illinois  17031.0  134801    5133\n",
              "530719 2020-09-13         Harris       Texas  48201.0  116172    2420\n",
              "530675 2020-09-13         Dallas       Texas  48113.0   78511    1045\n",
              "528331 2020-09-13        Broward     Florida  12011.0   74434    1280\n",
              "529763 2020-09-13          Clark      Nevada  32003.0   62650    1260\n",
              "528223 2020-09-13      Riverside  California   6065.0   55073    1103"
            ]
          },
          "metadata": {
            "tags": []
          },
          "execution_count": 31
        }
      ]
    },
    {
      "cell_type": "markdown",
      "metadata": {
        "id": "aHvTcmdfgy38"
      },
      "source": [
        "## Death rate Per FIPS "
      ]
    },
    {
      "cell_type": "code",
      "metadata": {
        "id": "9fNijuO8R9Hx"
      },
      "source": [
        ""
      ],
      "execution_count": null,
      "outputs": []
    },
    {
      "cell_type": "code",
      "metadata": {
        "id": "1lJmC-FEhhY-"
      },
      "source": [
        ""
      ],
      "execution_count": null,
      "outputs": []
    },
    {
      "cell_type": "markdown",
      "metadata": {
        "id": "FqTGKtk5hQ-I"
      },
      "source": [
        "## <font color = red> Bonus Point</font>\n",
        "\n",
        "### A function that makes \"Folium Choropleth Map\" for Weekly Cases, Weekly Deaths and Weekly Mortality Rate </font>\n",
        "\n",
        "ALL COUNTIES\n",
        "\n",
        "<br>\n",
        "\n",
        "### def Folium_Choropleth(type = 'cases',date=''):\n",
        "\n",
        "<br>\n",
        "\n",
        "## Due for Bonus point : Wednesday (09/16/2020 12:00pm)"
      ]
    },
    {
      "cell_type": "code",
      "metadata": {
        "id": "Qi9EZlbmhPh2"
      },
      "source": [
        "def Folium_Choropleth(type = 'cases',date=''):"
      ],
      "execution_count": null,
      "outputs": []
    },
    {
      "cell_type": "code",
      "metadata": {
        "id": "QM_OR4VxSqEN"
      },
      "source": [
        ""
      ],
      "execution_count": null,
      "outputs": []
    },
    {
      "cell_type": "code",
      "metadata": {
        "id": "296nY_KHhOc0"
      },
      "source": [
        ""
      ],
      "execution_count": null,
      "outputs": []
    }
  ]
}